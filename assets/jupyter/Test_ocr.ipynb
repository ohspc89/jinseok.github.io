{
  "nbformat": 4,
  "nbformat_minor": 0,
  "metadata": {
    "colab": {
      "provenance": []
    },
    "kernelspec": {
      "name": "python3",
      "display_name": "Python 3"
    },
    "language_info": {
      "name": "python"
    }
  },
  "cells": [
    {
      "cell_type": "code",
      "execution_count": 1,
      "metadata": {
        "id": "-nOqBoibc8jY"
      },
      "outputs": [],
      "source": [
        "# You need to install the following packages:\n",
        "#   opencv-python\n",
        "#   pytesseract\n",
        "#   scipy\n",
        "#   pandas\n",
        "import re\n",
        "import pytesseract\n",
        "import cv2\n",
        "import pandas as pd\n",
        "from scipy.stats import spearmanr, pearsonr"
      ]
    },
    {
      "cell_type": "code",
      "source": [
        "# Read a png image of a table\n",
        "imgpath = 'Selection_063.png'\n",
        "img = cv2.imread(imgpath)"
      ],
      "metadata": {
        "id": "Lb9Pg3ZLdnDv"
      },
      "execution_count": 2,
      "outputs": []
    },
    {
      "cell_type": "code",
      "source": [
        "# Convert to strings\n",
        "text = pytesseract.image_to_string(img)"
      ],
      "metadata": {
        "id": "yTCDyspFduSB"
      },
      "execution_count": 3,
      "outputs": []
    },
    {
      "cell_type": "markdown",
      "source": [
        "`splitlines()` attribute of a string object separates the object\n",
        "at every occurrence of '\\n', the NewLine character."
      ],
      "metadata": {
        "id": "bR4SSkRav4aM"
      }
    },
    {
      "cell_type": "code",
      "source": [
        "# Showing the first 10 items\n",
        "text.splitlines()[0:10]"
      ],
      "metadata": {
        "colab": {
          "base_uri": "https://localhost:8080/"
        },
        "id": "TBWP27Dtv_yk",
        "outputId": "a59f00a4-6fd7-48ff-8828-ddc5d03c4e7c"
      },
      "execution_count": 5,
      "outputs": [
        {
          "output_type": "execute_result",
          "data": {
            "text/plain": [
              "['(Left Leg) _(Right Leg)',\n",
              " '',\n",
              " '1173 1304',\n",
              " '1336 1228',\n",
              " '1076 1254',\n",
              " '913 933',\n",
              " '2006 2274',\n",
              " '2126 2075',\n",
              " '1247 1309',\n",
              " '1274 1292']"
            ]
          },
          "metadata": {},
          "execution_count": 5
        }
      ]
    },
    {
      "cell_type": "markdown",
      "source": [
        "`strip()` attribute of a string object strips whitespace\n",
        "at both ends of the object"
      ],
      "metadata": {
        "id": "vy7lZEfSwQYW"
      }
    },
    {
      "cell_type": "code",
      "source": [
        "strObj = '  253 382 '\n",
        "strObj.strip()"
      ],
      "metadata": {
        "colab": {
          "base_uri": "https://localhost:8080/",
          "height": 35
        },
        "id": "VS-bwMZ2wP_2",
        "outputId": "8eb4632b-47ca-4b36-b324-92374e9b0031"
      },
      "execution_count": 6,
      "outputs": [
        {
          "output_type": "execute_result",
          "data": {
            "text/plain": [
              "'253 382'"
            ],
            "application/vnd.google.colaboratory.intrinsic+json": {
              "type": "string"
            }
          },
          "metadata": {},
          "execution_count": 6
        }
      ]
    },
    {
      "cell_type": "code",
      "source": [
        "strObj2 = ''\n",
        "strObj2.strip()"
      ],
      "metadata": {
        "colab": {
          "base_uri": "https://localhost:8080/",
          "height": 35
        },
        "id": "V-58KTlRwk86",
        "outputId": "42cd877b-cc09-45ed-d4d3-5e8d95e2f175"
      },
      "execution_count": 7,
      "outputs": [
        {
          "output_type": "execute_result",
          "data": {
            "text/plain": [
              "''"
            ],
            "application/vnd.google.colaboratory.intrinsic+json": {
              "type": "string"
            }
          },
          "metadata": {},
          "execution_count": 7
        }
      ]
    },
    {
      "cell_type": "markdown",
      "source": [
        "Use the two attributes and Line Comprehension to create a list: `pairs`.\n",
        "\n",
        "The Line Comprehension feature makes your code more concise, readable, and FAST!\n",
        "You can read more about it from:\n",
        "    https://www.w3schools.com/python/python_lists_comprehension.as"
      ],
      "metadata": {
        "id": "n9ZJToA4wqFe"
      }
    },
    {
      "cell_type": "code",
      "source": [
        "pairs = [line for line in text.splitlines() if line.strip()]"
      ],
      "metadata": {
        "id": "1g3jEN4Zd7h5"
      },
      "execution_count": 8,
      "outputs": []
    },
    {
      "cell_type": "markdown",
      "source": [
        "Depending on the quality of the image,\n",
        "your text items may contain some noise.\n",
        "Here are some examples:"
      ],
      "metadata": {
        "id": "hOwk8UOjxAiW"
      }
    },
    {
      "cell_type": "code",
      "source": [
        "# See the comma(',') at the end\n",
        "pairs[9]"
      ],
      "metadata": {
        "colab": {
          "base_uri": "https://localhost:8080/",
          "height": 35
        },
        "id": "EjkT5RgyeYg1",
        "outputId": "896af3b8-1258-4197-ecc7-5e5ef2d13f6a"
      },
      "execution_count": 9,
      "outputs": [
        {
          "output_type": "execute_result",
          "data": {
            "text/plain": [
              "'1696 1440,'"
            ],
            "application/vnd.google.colaboratory.intrinsic+json": {
              "type": "string"
            }
          },
          "metadata": {},
          "execution_count": 9
        }
      ]
    },
    {
      "cell_type": "code",
      "source": [
        "# See the opening parenthesis in the beginning\n",
        "pairs[36]"
      ],
      "metadata": {
        "colab": {
          "base_uri": "https://localhost:8080/",
          "height": 35
        },
        "id": "AIglW7jAxJee",
        "outputId": "99af8bab-7c00-4954-9413-c123c2596ce7"
      },
      "execution_count": 10,
      "outputs": [
        {
          "output_type": "execute_result",
          "data": {
            "text/plain": [
              "'(2132, 2053'"
            ],
            "application/vnd.google.colaboratory.intrinsic+json": {
              "type": "string"
            }
          },
          "metadata": {},
          "execution_count": 10
        }
      ]
    },
    {
      "cell_type": "markdown",
      "source": [
        "I only want numbers, not \"(\" or \",\" or any other special character.\n",
        "Also, the first item of `pairs` is a tuple of column names"
      ],
      "metadata": {
        "id": "l8lQYI9Gxa7z"
      }
    },
    {
      "cell_type": "code",
      "source": [
        "pairs[0]"
      ],
      "metadata": {
        "colab": {
          "base_uri": "https://localhost:8080/",
          "height": 35
        },
        "id": "6G9X42o_xRgN",
        "outputId": "8c641495-ddd1-4f88-a13f-36f2ce60f7ed"
      },
      "execution_count": 11,
      "outputs": [
        {
          "output_type": "execute_result",
          "data": {
            "text/plain": [
              "'(Left Leg) _(Right Leg)'"
            ],
            "application/vnd.google.colaboratory.intrinsic+json": {
              "type": "string"
            }
          },
          "metadata": {},
          "execution_count": 11
        }
      ]
    },
    {
      "cell_type": "markdown",
      "source": [
        "To handle regular expression (regex),\n",
        "use `re.sub()` of `re` package."
      ],
      "metadata": {
        "id": "lhVulm0jxrsA"
      }
    },
    {
      "cell_type": "code",
      "source": [
        "# See how the comma at the end is removed\n",
        "re.sub('\\\\D', '', '3538,')"
      ],
      "metadata": {
        "colab": {
          "base_uri": "https://localhost:8080/",
          "height": 35
        },
        "id": "iuYenrTTxoCM",
        "outputId": "4cacbb18-8b59-47ea-af7c-907dcd3889ab"
      },
      "execution_count": 12,
      "outputs": [
        {
          "output_type": "execute_result",
          "data": {
            "text/plain": [
              "'3538'"
            ],
            "application/vnd.google.colaboratory.intrinsic+json": {
              "type": "string"
            }
          },
          "metadata": {},
          "execution_count": 12
        }
      ]
    },
    {
      "cell_type": "markdown",
      "source": [
        "You can write a for-loop, iterating over `pairs`.\n",
        "At each iteration, you will split a string (ex. '1696 1623')\n",
        "using `split()` attribute"
      ],
      "metadata": {
        "id": "6wB2tS-Ix0R4"
      }
    },
    {
      "cell_type": "code",
      "source": [
        "# separated by whitespace in the middle\n",
        "'1696 1623'.split()"
      ],
      "metadata": {
        "colab": {
          "base_uri": "https://localhost:8080/"
        },
        "id": "cNDrWW5vx78Y",
        "outputId": "67188276-2b2a-4f8c-ef90-f9ad86cff79c"
      },
      "execution_count": 13,
      "outputs": [
        {
          "output_type": "execute_result",
          "data": {
            "text/plain": [
              "['1696', '1623']"
            ]
          },
          "metadata": {},
          "execution_count": 13
        }
      ]
    },
    {
      "cell_type": "markdown",
      "source": [
        "Then you can save the first string to a list saving the\n",
        "<left leg movement rates>. You can save the second string to\n",
        "another list saving the <right leg movement rates>.\n",
        "Use `append` attribute of a list object.\n",
        "Additionally, you can convert each string to a number before\n",
        "saving, using `float()`.\n",
        "\n",
        "You can skip the first item of `pairs`, because you _know_ that\n",
        "it is just column names, not actual values.\n",
        "If you _do not know_ such is true, then you can use `re.search()`"
      ],
      "metadata": {
        "id": "j9IFhSV-yLcK"
      }
    },
    {
      "cell_type": "code",
      "source": [
        "# Start by preparing two empty lists\n",
        "lmovrates = []\n",
        "rmovrates = []\n",
        "# Start a loop\n",
        "for line in pairs:\n",
        "    # re.search(r'\\d', string) will be True\n",
        "    # if 'string' has a digit (ex. '3499) 3671')\n",
        "    if re.search(r'\\d', line):\n",
        "        # 'movrates' will be a list of two strings\n",
        "        # (ex. ['3499)', '3671'])\n",
        "        movrates = line.split()\n",
        "        # re.sub('\\\\D', '', movrates[0]) returns a string of digits\n",
        "        # float() will transform that string to a float\n",
        "        # `append` each item to the corresponding list\n",
        "        lmovrates.append(float(re.sub('\\\\D', '', movrates[0])))\n",
        "        rmovrates.append(float(re.sub('\\\\D', '', movrates[1])))"
      ],
      "metadata": {
        "id": "uBw5Oxj4x_gR"
      },
      "execution_count": 14,
      "outputs": []
    },
    {
      "cell_type": "markdown",
      "source": [
        "You can replace the for-loop above with the following two lines:"
      ],
      "metadata": {
        "id": "ygX2PwBEymRj"
      }
    },
    {
      "cell_type": "code",
      "source": [
        "numstr_pairs = [line.split() for line in pairs if re.search(r'\\d', line)]\n",
        "lmovrates, rmovrates = zip(*(map(lambda x: float(re.sub('\\\\D', '', x)), numstr)\\\n",
        "                             for numstr in numstr_pairs))"
      ],
      "metadata": {
        "id": "fg7cfl_6yi8s"
      },
      "execution_count": 16,
      "outputs": []
    },
    {
      "cell_type": "markdown",
      "source": [
        "Here comes a detailed explanation about the TWO lines above.\n",
        "\n",
        "`map` is a function that maps a function to every item of a list.\n",
        "It will return a map object.\n",
        "Learn more about map object from here:\n",
        "    https://realpython.com/python-map-function/"
      ],
      "metadata": {
        "id": "i6wquf0Ly1sQ"
      }
    },
    {
      "cell_type": "code",
      "source": [
        "map(float, ['12', '34', '56', '78'])"
      ],
      "metadata": {
        "colab": {
          "base_uri": "https://localhost:8080/"
        },
        "id": "emiOOrL9ytj9",
        "outputId": "96b202f5-20e9-486d-dffb-eb4ebcb962f7"
      },
      "execution_count": 17,
      "outputs": [
        {
          "output_type": "execute_result",
          "data": {
            "text/plain": [
              "<map at 0x78187ac6b1f0>"
            ]
          },
          "metadata": {},
          "execution_count": 17
        }
      ]
    },
    {
      "cell_type": "markdown",
      "source": [
        "The map object in the example above can be read with `list()` function. The map object should contain four numbers, converted from strings using `float`."
      ],
      "metadata": {
        "id": "2AENRryWy7dE"
      }
    },
    {
      "cell_type": "code",
      "source": [
        "list(map(float, ['12', '34', '56', '78']))"
      ],
      "metadata": {
        "colab": {
          "base_uri": "https://localhost:8080/"
        },
        "id": "tvFoiDloy6Z_",
        "outputId": "4f10b82d-2f86-4889-8810-fef97144142c"
      },
      "execution_count": 18,
      "outputs": [
        {
          "output_type": "execute_result",
          "data": {
            "text/plain": [
              "[12.0, 34.0, 56.0, 78.0]"
            ]
          },
          "metadata": {},
          "execution_count": 18
        }
      ]
    },
    {
      "cell_type": "markdown",
      "source": [
        "`*` is the unpacking operator. This is often used with `zip` function.\n",
        "\n",
        "`zip` is a function aggregating elements from multiple iterables into tuples.\n",
        "(https://realpython.com/python-zip-function)\n",
        "Similar to `map`, `zip` also generates a zip object."
      ],
      "metadata": {
        "id": "LgcRsRinzcDJ"
      }
    },
    {
      "cell_type": "code",
      "source": [
        "# See how `zip` and `*` are used in combination.\n",
        "# `*` is unpacking the list [[12, 34], [56, 78]] to two separate lists:\n",
        "#    [12, 34] and [56, 78]\n",
        "# Then `zip` will aggregate elements from the two lists into tuples.\n",
        "# 12 and 56 will make one tuple, and 34 and 78 will make another tuple.\n",
        "\n",
        "zip(*[[12, 34], [56, 78]])"
      ],
      "metadata": {
        "colab": {
          "base_uri": "https://localhost:8080/"
        },
        "id": "usDsMKSxzboA",
        "outputId": "4906b3cf-7e22-44d0-a7cc-342cab9e5ade"
      },
      "execution_count": 19,
      "outputs": [
        {
          "output_type": "execute_result",
          "data": {
            "text/plain": [
              "<zip at 0x78188000e800>"
            ]
          },
          "metadata": {},
          "execution_count": 19
        }
      ]
    },
    {
      "cell_type": "markdown",
      "source": [
        "Check the two tuples in the zip object."
      ],
      "metadata": {
        "id": "ECeXpR0-zpL7"
      }
    },
    {
      "cell_type": "code",
      "source": [
        "list(zip(*[[12, 34], [56, 78]]))"
      ],
      "metadata": {
        "colab": {
          "base_uri": "https://localhost:8080/"
        },
        "id": "RC5EtvOXzEsb",
        "outputId": "49aea037-5136-44ce-bd11-dda39efbd310"
      },
      "execution_count": 20,
      "outputs": [
        {
          "output_type": "execute_result",
          "data": {
            "text/plain": [
              "[(12, 56), (34, 78)]"
            ]
          },
          "metadata": {},
          "execution_count": 20
        }
      ]
    },
    {
      "cell_type": "markdown",
      "source": [
        "More than two lists can be provided as input."
      ],
      "metadata": {
        "id": "_WU_WYZHzyTL"
      }
    },
    {
      "cell_type": "code",
      "source": [
        "list(zip(*[[12, 34], [56, 78], [90, 123]]))"
      ],
      "metadata": {
        "colab": {
          "base_uri": "https://localhost:8080/"
        },
        "id": "vk0VaQkDzvtj",
        "outputId": "348119a4-bd9e-443b-8f49-4571b9ed9a6d"
      },
      "execution_count": 21,
      "outputs": [
        {
          "output_type": "execute_result",
          "data": {
            "text/plain": [
              "[(12, 56, 90), (34, 78, 123)]"
            ]
          },
          "metadata": {},
          "execution_count": 21
        }
      ]
    },
    {
      "cell_type": "code",
      "source": [
        "# Calculate the correlation coefficients and associated p-values\n",
        "rs, rs_p = spearmanr(lmovrates, rmovrates)\n",
        "print(f'Spearman Rho: {rs}, p-value: {rs_p}')\n",
        "\n",
        "rp, rp_p = pearsonr(lmovrates, rmovrates)\n",
        "print(f'Pearson R: {rp}, p-value: {rp_p}')\n",
        "\n",
        "# You can export the values to a csv file\n",
        "pd.DataFrame({'lmovrates':lmovrates, 'rmovrates':rmovrates}).to_csv('movrates.csv', index=False)"
      ],
      "metadata": {
        "colab": {
          "base_uri": "https://localhost:8080/"
        },
        "id": "D9NWeIXNz4yi",
        "outputId": "13e56429-a3e1-4e6f-8081-a4e95ea20165"
      },
      "execution_count": 22,
      "outputs": [
        {
          "output_type": "stream",
          "name": "stdout",
          "text": [
            "Spearman Rho: 0.9045627150464127, p-value: 3.8517126368172185e-14\n",
            "Pearson R: 0.9541193734116105, p-value: 2.2186650538231103e-19\n"
          ]
        }
      ]
    }
  ]
}